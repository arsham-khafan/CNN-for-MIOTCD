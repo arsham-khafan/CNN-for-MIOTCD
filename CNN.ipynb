{
  "nbformat": 4,
  "nbformat_minor": 0,
  "metadata": {
    "colab": {
      "provenance": [],
      "gpuType": "T4",
      "collapsed_sections": [
        "HvD_4TXhNEw4",
        "xNVBuSfCNI8w",
        "j8i06KqGEn-7",
        "TMB289IOxb0L",
        "0DzWDPi993_S",
        "a3sJw1CwxSvD",
        "u-CIutKGame_",
        "afWq4WsKT8R0"
      ]
    },
    "kernelspec": {
      "name": "python3",
      "display_name": "Python 3"
    },
    "language_info": {
      "name": "python"
    },
    "accelerator": "GPU",
    "gpuClass": "standard"
  },
  "cells": [
    {
      "cell_type": "markdown",
      "source": [
        "### Loading the dataset"
      ],
      "metadata": {
        "id": "jbisHKpWM-I4"
      }
    },
    {
      "cell_type": "markdown",
      "source": [
        "#### mounting drive"
      ],
      "metadata": {
        "id": "HvD_4TXhNEw4"
      }
    },
    {
      "cell_type": "code",
      "source": [
        "from google.colab import drive\n",
        "drive.mount('/content/gdrive')"
      ],
      "metadata": {
        "colab": {
          "base_uri": "https://localhost:8080/"
        },
        "id": "0fF2_yYgLfqB",
        "outputId": "eca418a6-e7ea-44fe-c140-a5bb9a86a5c5"
      },
      "execution_count": null,
      "outputs": [
        {
          "output_type": "stream",
          "name": "stdout",
          "text": [
            "Mounted at /content/gdrive\n"
          ]
        }
      ]
    },
    {
      "cell_type": "markdown",
      "source": [
        "#### unraring the rar file"
      ],
      "metadata": {
        "id": "xNVBuSfCNI8w"
      }
    },
    {
      "cell_type": "code",
      "source": [
        "!unrar x \"/content/gdrive/MyDrive/HW02-Practical.rar\" \"/content\""
      ],
      "metadata": {
        "id": "llnNdZWFUYiD"
      },
      "execution_count": null,
      "outputs": []
    },
    {
      "cell_type": "markdown",
      "source": [
        "# PART 1\n",
        "---"
      ],
      "metadata": {
        "id": "j8i06KqGEn-7"
      }
    },
    {
      "cell_type": "markdown",
      "source": [
        "#### loading images datasets in memory"
      ],
      "metadata": {
        "id": "TMB289IOxb0L"
      }
    },
    {
      "cell_type": "code",
      "source": [
        "import tensorflow as tf\n",
        "from tensorflow import keras\n",
        "from keras.backend import flatten\n",
        "from keras import models\n",
        "from keras import layers\n",
        "from keras.models import Sequential\n",
        "from keras.layers import Dense, Flatten , Conv2D , MaxPooling2D\n",
        "\n",
        "train_dataset = keras.utils.image_dataset_from_directory(\n",
        "    directory =  '/content/HW02-Practical/Dataset/train',labels = 'inferred',label_mode = 'categorical',\n",
        "    batch_size=32,\n",
        "    image_size=(256, 256),\n",
        "    interpolation=\"bilinear\",)\n",
        "\n",
        "valid_dataset = keras.utils.image_dataset_from_directory(\n",
        "    directory =  '/content/HW02-Practical/Dataset/valid',labels = 'inferred',label_mode = 'categorical',\n",
        "    batch_size=32,\n",
        "    image_size=(256, 256),\n",
        "    interpolation=\"bilinear\",)\n",
        "\n",
        "test_dataset = keras.utils.image_dataset_from_directory(\n",
        "    directory =  '/content/HW02-Practical/Dataset/test',labels = 'inferred',label_mode = 'categorical',\n",
        "    batch_size=32,\n",
        "    image_size=(256, 256),\n",
        "    interpolation=\"bilinear\",)"
      ],
      "metadata": {
        "colab": {
          "base_uri": "https://localhost:8080/"
        },
        "id": "fQUvlwdWtZr7",
        "outputId": "35256861-9e81-48f9-e74a-606c9104d47e"
      },
      "execution_count": null,
      "outputs": [
        {
          "output_type": "stream",
          "name": "stdout",
          "text": [
            "Found 15000 files belonging to 5 classes.\n",
            "Found 5000 files belonging to 5 classes.\n",
            "Found 5000 files belonging to 5 classes.\n"
          ]
        }
      ]
    },
    {
      "cell_type": "markdown",
      "source": [
        "`-----------------------------------------------------`\n",
        "##  <font color='red'>Underfit model</font>"
      ],
      "metadata": {
        "id": "0DzWDPi993_S"
      }
    },
    {
      "cell_type": "markdown",
      "source": [
        "we'll make a very simple model with very few parameters (only one dense layer with 5 neurons) which obviously won't be very useful!"
      ],
      "metadata": {
        "id": "7D3w9L6b0jwW"
      }
    },
    {
      "cell_type": "code",
      "source": [
        "model1 = models.Sequential()\n",
        "model1.add(Flatten())\n",
        "model1.add(Dense(5,'softmax'))\n",
        "model1.build(input_shape=(None, 256, 256, 3))\n",
        "model1.summary()\n"
      ],
      "metadata": {
        "id": "m6YqLZdr-Ly7",
        "colab": {
          "base_uri": "https://localhost:8080/"
        },
        "outputId": "042c0dc4-28f5-4eac-ff00-470bc699174c"
      },
      "execution_count": null,
      "outputs": [
        {
          "output_type": "stream",
          "name": "stdout",
          "text": [
            "Model: \"sequential_10\"\n",
            "_________________________________________________________________\n",
            " Layer (type)                Output Shape              Param #   \n",
            "=================================================================\n",
            " flatten_9 (Flatten)         (None, 196608)            0         \n",
            "                                                                 \n",
            " dense_8 (Dense)             (None, 5)                 983045    \n",
            "                                                                 \n",
            "=================================================================\n",
            "Total params: 983,045\n",
            "Trainable params: 983,045\n",
            "Non-trainable params: 0\n",
            "_________________________________________________________________\n"
          ]
        }
      ]
    },
    {
      "cell_type": "code",
      "source": [
        "model1.compile(loss='categorical_crossentropy', optimizer='adam', metrics=['accuracy'])\n",
        "history = model1.fit(train_dataset,\n",
        "                    epochs = 10,\n",
        "                    validation_data = valid_dataset,\n",
        "                    )"
      ],
      "metadata": {
        "colab": {
          "base_uri": "https://localhost:8080/"
        },
        "id": "JEOBT6rRA1-5",
        "outputId": "b410be72-f39b-4b58-9131-8e314306b92c"
      },
      "execution_count": null,
      "outputs": [
        {
          "output_type": "stream",
          "name": "stdout",
          "text": [
            "Epoch 1/10\n",
            "469/469 [==============================] - 29s 60ms/step - loss: 2272.7402 - accuracy: 0.6131 - val_loss: 2898.6311 - val_accuracy: 0.5226\n",
            "Epoch 2/10\n",
            "469/469 [==============================] - 24s 52ms/step - loss: 2304.4255 - accuracy: 0.6032 - val_loss: 2043.0128 - val_accuracy: 0.5492\n",
            "Epoch 3/10\n",
            "469/469 [==============================] - 28s 59ms/step - loss: 2078.4241 - accuracy: 0.6213 - val_loss: 2547.2004 - val_accuracy: 0.5248\n",
            "Epoch 4/10\n",
            "469/469 [==============================] - 25s 53ms/step - loss: 2038.7936 - accuracy: 0.6224 - val_loss: 2604.3391 - val_accuracy: 0.5202\n",
            "Epoch 5/10\n",
            "469/469 [==============================] - 24s 50ms/step - loss: 2092.8811 - accuracy: 0.6287 - val_loss: 2110.4934 - val_accuracy: 0.6128\n",
            "Epoch 6/10\n",
            "469/469 [==============================] - 28s 59ms/step - loss: 2009.6870 - accuracy: 0.6317 - val_loss: 4020.6211 - val_accuracy: 0.4814\n",
            "Epoch 7/10\n",
            "469/469 [==============================] - 28s 60ms/step - loss: 1858.9832 - accuracy: 0.6491 - val_loss: 2026.7252 - val_accuracy: 0.6012\n",
            "Epoch 8/10\n",
            "469/469 [==============================] - 25s 52ms/step - loss: 1929.7546 - accuracy: 0.6449 - val_loss: 2820.6396 - val_accuracy: 0.5648\n",
            "Epoch 9/10\n",
            "469/469 [==============================] - 24s 51ms/step - loss: 1955.5039 - accuracy: 0.6498 - val_loss: 3083.4832 - val_accuracy: 0.5620\n",
            "Epoch 10/10\n",
            "469/469 [==============================] - 23s 48ms/step - loss: 1979.0499 - accuracy: 0.6444 - val_loss: 3657.4021 - val_accuracy: 0.5364\n"
          ]
        }
      ]
    },
    {
      "cell_type": "markdown",
      "source": [
        "here using history we'll plot the result of training this model on validaton and traiing dataset:"
      ],
      "metadata": {
        "id": "LD0FmJ0M039u"
      }
    },
    {
      "cell_type": "code",
      "source": [
        "import matplotlib.pyplot as plt\n",
        "plt.figure(1)\n",
        "plt.figure(figsize=(5,3))\n",
        "plt.plot(history.history['loss'], label='train_loss')\n",
        "plt.plot(history.history['val_loss'], label = 'val_loss')\n",
        "plt.xlabel('Epoch')\n",
        "plt.ylabel('Loss')\n",
        "plt.ylim([0, 4000])\n",
        "plt.xlim([0, 10])\n",
        "plt.legend(loc='lower right')\n",
        "\n",
        "plt.figure(2)\n",
        "plt.figure(figsize=(5,3))\n",
        "plt.plot(history.history['accuracy'], label='train_accuracy', color = 'red')\n",
        "plt.plot(history.history['val_accuracy'], label = 'val_accuracy', color = 'blue')\n",
        "plt.xlabel('Epoch')\n",
        "plt.ylabel('accuracy')\n",
        "plt.ylim([0, 1])\n",
        "plt.xlim([0, 10])\n",
        "plt.legend(loc='lower right')"
      ],
      "metadata": {
        "colab": {
          "base_uri": "https://localhost:8080/",
          "height": 650
        },
        "id": "xyVLJQ8XUZWI",
        "outputId": "fcaea95e-583c-4505-a4b1-5a3ec52df9aa"
      },
      "execution_count": null,
      "outputs": [
        {
          "output_type": "execute_result",
          "data": {
            "text/plain": [
              "<matplotlib.legend.Legend at 0x7fbf96dd9d50>"
            ]
          },
          "metadata": {},
          "execution_count": 57
        },
        {
          "output_type": "display_data",
          "data": {
            "text/plain": [
              "<Figure size 640x480 with 0 Axes>"
            ]
          },
          "metadata": {}
        },
        {
          "output_type": "display_data",
          "data": {
            "text/plain": [
              "<Figure size 500x300 with 1 Axes>"
            ],
            "image/png": "[encoded data removed]"
          },
          "metadata": {}
        },
        {
          "output_type": "display_data",
          "data": {
            "text/plain": [
              "<Figure size 500x300 with 1 Axes>"
            ],
            "image/png": "[encoded data removed]"
          },
          "metadata": {}
        }
      ]
    },
    {
      "cell_type": "markdown",
      "source": [
        "`-----------------------------------------------------`\n",
        "##  <font color='red'>Overfit model</font>"
      ],
      "metadata": {
        "id": "a3sJw1CwxSvD"
      }
    },
    {
      "cell_type": "markdown",
      "source": [
        "here we will use a model that will result in overfitting as you will see the model will work well on traiing dataset and not good on validation dataset"
      ],
      "metadata": {
        "id": "w5QGY5Rd1Fe_"
      }
    },
    {
      "cell_type": "code",
      "source": [
        "model = models.Sequential()\n",
        "model.add(layers.Conv2D(32, (3, 3), activation='relu', input_shape=(256, 256, 3))) #it's 32 filters of 3x3x3 (2d resluts in 2d)\n",
        "model.add(Flatten())\n",
        "model.add(Dense(5,'softmax'))\n",
        "\n",
        "model.summary()\n"
      ],
      "metadata": {
        "id": "XyE1VroTtw7C",
        "colab": {
          "base_uri": "https://localhost:8080/"
        },
        "outputId": "735b9894-502a-49f0-d158-83505df0d61b"
      },
      "execution_count": null,
      "outputs": [
        {
          "output_type": "stream",
          "name": "stdout",
          "text": [
            "Model: \"sequential_11\"\n",
            "_________________________________________________________________\n",
            " Layer (type)                Output Shape              Param #   \n",
            "=================================================================\n",
            " conv2d_4 (Conv2D)           (None, 254, 254, 32)      896       \n",
            "                                                                 \n",
            " flatten_10 (Flatten)        (None, 2064512)           0         \n",
            "                                                                 \n",
            " dense_9 (Dense)             (None, 5)                 10322565  \n",
            "                                                                 \n",
            "=================================================================\n",
            "Total params: 10,323,461\n",
            "Trainable params: 10,323,461\n",
            "Non-trainable params: 0\n",
            "_________________________________________________________________\n"
          ]
        }
      ]
    },
    {
      "cell_type": "code",
      "source": [
        "model.compile(loss='categorical_crossentropy', optimizer='adam', metrics=['accuracy'],)\n",
        "history2 = model.fit(train_dataset,\n",
        "                    epochs = 10,\n",
        "                    validation_data = valid_dataset,\n",
        "                    )"
      ],
      "metadata": {
        "colab": {
          "base_uri": "https://localhost:8080/"
        },
        "id": "6OXM21kV1D0q",
        "outputId": "af435848-e6f4-4828-a8eb-0eb6b9496c1a"
      },
      "execution_count": null,
      "outputs": [
        {
          "output_type": "stream",
          "name": "stdout",
          "text": [
            "Epoch 1/10\n",
            "469/469 [==============================] - 30s 62ms/step - loss: 392.8899 - accuracy: 0.4718 - val_loss: 3.7844 - val_accuracy: 0.4876\n",
            "Epoch 2/10\n",
            "469/469 [==============================] - 29s 61ms/step - loss: 1.2194 - accuracy: 0.7607 - val_loss: 3.7567 - val_accuracy: 0.5270\n",
            "Epoch 3/10\n",
            "469/469 [==============================] - 33s 70ms/step - loss: 0.6017 - accuracy: 0.8743 - val_loss: 3.8259 - val_accuracy: 0.5432\n",
            "Epoch 4/10\n",
            "469/469 [==============================] - 31s 65ms/step - loss: 0.4302 - accuracy: 0.9115 - val_loss: 4.2702 - val_accuracy: 0.5280\n",
            "Epoch 5/10\n",
            "469/469 [==============================] - 32s 68ms/step - loss: 0.3867 - accuracy: 0.9248 - val_loss: 4.8924 - val_accuracy: 0.5416\n",
            "Epoch 6/10\n",
            "469/469 [==============================] - 29s 62ms/step - loss: 0.4531 - accuracy: 0.9306 - val_loss: 5.7755 - val_accuracy: 0.5242\n",
            "Epoch 7/10\n",
            "469/469 [==============================] - 30s 63ms/step - loss: 0.4411 - accuracy: 0.9175 - val_loss: 6.1475 - val_accuracy: 0.5278\n",
            "Epoch 8/10\n",
            "469/469 [==============================] - 30s 63ms/step - loss: 0.5034 - accuracy: 0.9187 - val_loss: 7.3625 - val_accuracy: 0.5406\n",
            "Epoch 9/10\n",
            "469/469 [==============================] - 29s 62ms/step - loss: 0.7186 - accuracy: 0.9163 - val_loss: 8.8481 - val_accuracy: 0.5296\n",
            "Epoch 10/10\n",
            "469/469 [==============================] - 31s 65ms/step - loss: 0.9493 - accuracy: 0.8739 - val_loss: 7.6182 - val_accuracy: 0.5190\n"
          ]
        }
      ]
    },
    {
      "cell_type": "code",
      "source": [
        "import matplotlib.pyplot as plt\n",
        "plt.figure(3)\n",
        "plt.figure(figsize=(5,3))\n",
        "plt.plot(history2.history['loss'], label='train_loss')\n",
        "plt.plot(history2.history['val_loss'], label = 'val_loss')\n",
        "plt.xlabel('Epoch')\n",
        "plt.ylabel('Loss')\n",
        "plt.ylim([0, 10])\n",
        "plt.xlim([0, 10])\n",
        "plt.legend(loc='lower right')\n",
        "plt.axvline(2, color = 'green', linestyle = 'dashed')\n",
        "\n",
        "plt.figure(4)\n",
        "plt.figure(figsize=(5,3))\n",
        "plt.plot(history2.history['accuracy'], label='train_accuracy', color = 'red')\n",
        "plt.plot(history2.history['val_accuracy'], label = 'val_accuracy', color = 'blue')\n",
        "plt.xlabel('Epoch')\n",
        "plt.ylabel('accuracy')\n",
        "plt.ylim([0, 1])\n",
        "plt.xlim([0, 10])\n",
        "plt.legend(loc='lower right')"
      ],
      "metadata": {
        "colab": {
          "base_uri": "https://localhost:8080/",
          "height": 650
        },
        "id": "Hrlok02G6Ze5",
        "outputId": "329a686f-5af7-4bec-bc8d-60ffde5eb9df"
      },
      "execution_count": null,
      "outputs": [
        {
          "output_type": "execute_result",
          "data": {
            "text/plain": [
              "<matplotlib.legend.Legend at 0x7fbf96ed6170>"
            ]
          },
          "metadata": {},
          "execution_count": 56
        },
        {
          "output_type": "display_data",
          "data": {
            "text/plain": [
              "<Figure size 640x480 with 0 Axes>"
            ]
          },
          "metadata": {}
        },
        {
          "output_type": "display_data",
          "data": {
            "text/plain": [
              "<Figure size 500x300 with 1 Axes>"
            ],
            "image/png": "[encoded data removed]"
          },
          "metadata": {}
        },
        {
          "output_type": "display_data",
          "data": {
            "text/plain": [
              "<Figure size 500x300 with 1 Axes>"
            ],
            "image/png": "[encoded data removed]"
          },
          "metadata": {}
        }
      ]
    },
    {
      "cell_type": "markdown",
      "source": [
        "as we can see the model is overfit because after some epochs the training loss is decreasing and the validation loss is increasing(after the dashed green line)! this means the model is overfit and the accuracy is acceptable for training but not good for validation. \n",
        "the reason for this is the model is too complicated there are 10000000 parameters! \n",
        "so we should use hyper parameter tuning for simplifying the model. "
      ],
      "metadata": {
        "id": "Q7kqeqRHY48Q"
      }
    },
    {
      "cell_type": "markdown",
      "source": [
        "`-----------------------------------------------------`\n",
        "##  <font color='green'>Best fit model</font>"
      ],
      "metadata": {
        "id": "u-CIutKGame_"
      }
    },
    {
      "cell_type": "markdown",
      "source": [
        "here we'll use wandb to find a better learning rate for the overfit model!"
      ],
      "metadata": {
        "id": "6QckFbMo1aam"
      }
    },
    {
      "cell_type": "code",
      "source": [
        "import tensorflow as tf\n",
        "from tensorflow import keras\n",
        "from keras.backend import flatten\n",
        "from keras import models\n",
        "from keras import layers\n",
        "from keras.models import Sequential\n",
        "from keras.layers import Dense, Flatten , Conv2D , MaxPooling2D\n",
        "\n",
        "#the overfit model:\n",
        "model3 = models.Sequential()\n",
        "model3.add(layers.Conv2D(32, (3, 3), activation='relu', input_shape=(256, 256, 3))) #it's 32 filters of 3x3x3 (2d resluts in 2d)\n",
        "model3.add(Flatten())\n",
        "model3.add(Dense(5,'softmax'))\n",
        "\n",
        "model3.summary()\n",
        "#-----------------------------------------------------"
      ],
      "metadata": {
        "id": "wskc-2yrax6n",
        "colab": {
          "base_uri": "https://localhost:8080/"
        },
        "outputId": "9f294587-0b8a-4ed5-bd83-5530f3076384"
      },
      "execution_count": null,
      "outputs": [
        {
          "output_type": "stream",
          "name": "stdout",
          "text": [
            "Model: \"sequential\"\n",
            "_________________________________________________________________\n",
            " Layer (type)                Output Shape              Param #   \n",
            "=================================================================\n",
            " conv2d (Conv2D)             (None, 254, 254, 32)      896       \n",
            "                                                                 \n",
            " flatten (Flatten)           (None, 2064512)           0         \n",
            "                                                                 \n",
            " dense (Dense)               (None, 5)                 10322565  \n",
            "                                                                 \n",
            "=================================================================\n",
            "Total params: 10,323,461\n",
            "Trainable params: 10,323,461\n",
            "Non-trainable params: 0\n",
            "_________________________________________________________________\n"
          ]
        }
      ]
    },
    {
      "cell_type": "code",
      "source": [
        "!pip install --upgrade wandb"
      ],
      "metadata": {
        "id": "rF3RnO_Xdjoh"
      },
      "execution_count": null,
      "outputs": []
    },
    {
      "cell_type": "code",
      "source": [
        "import wandb\n",
        "learning_rate = wandb.config.learning_rate\n",
        "optimizer = keras.Adam(learning_rate = learning_rate)\n",
        "model.compile(loss = 'categorical_crossentropy',optimizer = optimizer, metrics = ['accuracy'])"
      ],
      "metadata": {
        "id": "CGuhSMC6dsqw"
      },
      "execution_count": null,
      "outputs": []
    },
    {
      "cell_type": "markdown",
      "source": [
        "# PART 2\n",
        "\n",
        "---"
      ],
      "metadata": {
        "id": "g10i6psa3971"
      }
    },
    {
      "cell_type": "markdown",
      "source": [
        "## 1.feature extraction"
      ],
      "metadata": {
        "id": "afWq4WsKT8R0"
      }
    },
    {
      "cell_type": "markdown",
      "source": [
        "first we will import the dataset from folder"
      ],
      "metadata": {
        "id": "c4yIuJ6ohhUb"
      }
    },
    {
      "cell_type": "code",
      "source": [
        "import tensorflow as tf\n",
        "from tensorflow import keras\n",
        "from keras.backend import flatten\n",
        "from keras import models\n",
        "from keras import layers\n",
        "from keras.models import Sequential\n",
        "from keras.layers import Dense, Flatten , Conv2D , MaxPooling2D\n",
        "\n",
        "train_dataset = keras.utils.image_dataset_from_directory(\n",
        "    directory =  '/content/HW02-Practical/Dataset/train',labels = 'inferred',label_mode = 'categorical',\n",
        "    batch_size=32,\n",
        "    image_size=(224, 224),\n",
        "    interpolation=\"bilinear\",)\n",
        "\n",
        "valid_dataset = keras.utils.image_dataset_from_directory(\n",
        "    directory =  '/content/HW02-Practical/Dataset/valid',labels = 'inferred',label_mode = 'categorical',\n",
        "    batch_size=32,\n",
        "    image_size=(224, 224),\n",
        "    interpolation=\"bilinear\",)\n",
        "\n",
        "test_dataset = keras.utils.image_dataset_from_directory(\n",
        "    directory =  '/content/HW02-Practical/Dataset/test',labels = 'inferred',label_mode = 'categorical',\n",
        "    batch_size=32,\n",
        "    image_size=(224, 224),\n",
        "    interpolation=\"bilinear\",)"
      ],
      "metadata": {
        "id": "L_8iVimh4Dq9",
        "colab": {
          "base_uri": "https://localhost:8080/"
        },
        "outputId": "d7d52d31-2dbe-4625-cabd-317691e4e7b6"
      },
      "execution_count": null,
      "outputs": [
        {
          "output_type": "stream",
          "name": "stdout",
          "text": [
            "Found 15000 files belonging to 5 classes.\n",
            "Found 5000 files belonging to 5 classes.\n",
            "Found 5000 files belonging to 5 classes.\n"
          ]
        }
      ]
    },
    {
      "cell_type": "markdown",
      "source": [
        "here we import a pre-trained model in tf.keras library (resnet50) \n",
        "then we will freeze the pretrained weights\n",
        "using the ```trinable = False```   \n",
        "in the next step we'll add some extra layers ourselves on top of the ResNet model (a global average pooling layer and a dense layer with 5 neurons and softmax activation)"
      ],
      "metadata": {
        "id": "sMOWj6wahrWF"
      }
    },
    {
      "cell_type": "code",
      "source": [
        "#import pretrained model:\n",
        "model4 = keras.applications.ResNet50(\n",
        "    weights=\"imagenet\",\n",
        "    input_shape=(224, 224, 3),\n",
        "    include_top=False\n",
        ")\n",
        "#freeze the pretrained layers:\n",
        "model4.trainable = False\n",
        "#add extra layers on top:\n",
        "inputs = keras.Input(shape=(224, 224, 3))\n",
        "x = model4(inputs, training=False)\n",
        "x = keras.layers.GlobalAveragePooling2D()(x)\n",
        "outputs = keras.layers.Dense(5,activation = 'softmax')(x)\n",
        "top_model = keras.Model(inputs, outputs)"
      ],
      "metadata": {
        "id": "FAQOwhfI4uL-",
        "colab": {
          "base_uri": "https://localhost:8080/"
        },
        "outputId": "04a22bb4-faab-4723-a89b-1ae1449f507e"
      },
      "execution_count": null,
      "outputs": [
        {
          "output_type": "stream",
          "name": "stdout",
          "text": [
            "Downloading data from https://storage.googleapis.com/tensorflow/keras-applications/resnet/resnet50_weights_tf_dim_ordering_tf_kernels_notop.h5\n",
            "94765736/94765736 [==============================] - 0s 0us/step\n"
          ]
        }
      ]
    },
    {
      "cell_type": "markdown",
      "source": [
        "now we will compile the hybrid model(with frozen pretrained layers and new custom layers(trainable))\n",
        "then we'll fit the model(only change unfrozen layers weights)\n",
        "also 5-6 epochs is enough before overfitting (early stopping)"
      ],
      "metadata": {
        "id": "H_9cEhZOSTfz"
      }
    },
    {
      "cell_type": "code",
      "source": [
        "top_model.compile(optimizer=keras.optimizers.Adam(),\n",
        "              loss='categorical_crossentropy',\n",
        "              metrics=['accuracy'])\n",
        "\n",
        "history = top_model.fit(train_dataset,\n",
        "                    epochs = 6,\n",
        "                    validation_data = valid_dataset,\n",
        "                    )"
      ],
      "metadata": {
        "colab": {
          "base_uri": "https://localhost:8080/"
        },
        "id": "NJnVIpbPSVcj",
        "outputId": "13cc89d1-80b2-4192-c5f4-3a9f084b224b"
      },
      "execution_count": null,
      "outputs": [
        {
          "output_type": "stream",
          "name": "stdout",
          "text": [
            "Epoch 1/6\n",
            "469/469 [==============================] - 79s 142ms/step - loss: 0.4786 - accuracy: 0.8208 - val_loss: 0.5094 - val_accuracy: 0.8052\n",
            "Epoch 2/6\n",
            "469/469 [==============================] - 60s 126ms/step - loss: 0.2802 - accuracy: 0.9016 - val_loss: 0.4526 - val_accuracy: 0.8362\n",
            "Epoch 3/6\n",
            "469/469 [==============================] - 60s 128ms/step - loss: 0.2327 - accuracy: 0.9166 - val_loss: 0.3707 - val_accuracy: 0.8644\n",
            "Epoch 4/6\n",
            "469/469 [==============================] - 61s 130ms/step - loss: 0.2001 - accuracy: 0.9287 - val_loss: 0.3963 - val_accuracy: 0.8582\n",
            "Epoch 5/6\n",
            "469/469 [==============================] - 61s 130ms/step - loss: 0.1769 - accuracy: 0.9397 - val_loss: 0.3654 - val_accuracy: 0.8720\n",
            "Epoch 6/6\n",
            "469/469 [==============================] - 62s 131ms/step - loss: 0.1647 - accuracy: 0.9423 - val_loss: 0.3857 - val_accuracy: 0.8664\n"
          ]
        }
      ]
    },
    {
      "cell_type": "markdown",
      "source": [
        "## 2 . fine tuning "
      ],
      "metadata": {
        "id": "rarZNrP3kbit"
      }
    },
    {
      "cell_type": "markdown",
      "source": [
        "now all we have to do is to unfreeze the pretrained layers so we fine tune all then we will recompile and  fit the model again."
      ],
      "metadata": {
        "id": "nZ7gLxIxlRJ-"
      }
    },
    {
      "cell_type": "code",
      "source": [
        "# Unfreeze the base model\n",
        "model4.trainable = True\n",
        "\n",
        "# It's important to recompile your model after you make any changes\n",
        "# to the `trainable` attribute of any inner layer, so that your changes\n",
        "# are take into account\n",
        "\n",
        "top_model.compile(optimizer=keras.optimizers.Adam(1e-5),#small learning rate is better \n",
        "              loss='categorical_crossentropy',\n",
        "              metrics=['accuracy'])\n",
        "\n",
        "history = top_model.fit(train_dataset,\n",
        "                    epochs = 10,\n",
        "                    validation_data = valid_dataset,\n",
        "                    )"
      ],
      "metadata": {
        "colab": {
          "base_uri": "https://localhost:8080/"
        },
        "id": "8JD8FwLUkiU1",
        "outputId": "1f7c962f-f4a1-43be-97d7-2d446016064f"
      },
      "execution_count": null,
      "outputs": [
        {
          "output_type": "stream",
          "name": "stdout",
          "text": [
            "Epoch 1/10\n",
            "469/469 [==============================] - 217s 366ms/step - loss: 0.1409 - accuracy: 0.9509 - val_loss: 0.2900 - val_accuracy: 0.9058\n",
            "Epoch 2/10\n",
            "469/469 [==============================] - 172s 366ms/step - loss: 0.0366 - accuracy: 0.9885 - val_loss: 0.2737 - val_accuracy: 0.9230\n",
            "Epoch 3/10\n",
            "469/469 [==============================] - 173s 368ms/step - loss: 0.0136 - accuracy: 0.9966 - val_loss: 0.3532 - val_accuracy: 0.9132\n",
            "Epoch 4/10\n",
            "469/469 [==============================] - 173s 369ms/step - loss: 0.0113 - accuracy: 0.9969 - val_loss: 0.3327 - val_accuracy: 0.9160\n",
            "Epoch 5/10\n",
            "469/469 [==============================] - 170s 363ms/step - loss: 0.0124 - accuracy: 0.9958 - val_loss: 0.3196 - val_accuracy: 0.9266\n",
            "Epoch 6/10\n",
            "469/469 [==============================] - 173s 368ms/step - loss: 0.0099 - accuracy: 0.9971 - val_loss: 0.2811 - val_accuracy: 0.9358\n",
            "Epoch 7/10\n",
            "469/469 [==============================] - 170s 363ms/step - loss: 0.0099 - accuracy: 0.9967 - val_loss: 0.3024 - val_accuracy: 0.9298\n",
            "Epoch 8/10\n",
            "469/469 [==============================] - 172s 367ms/step - loss: 0.0093 - accuracy: 0.9970 - val_loss: 0.3732 - val_accuracy: 0.9138\n",
            "Epoch 9/10\n",
            "469/469 [==============================] - 173s 368ms/step - loss: 0.0075 - accuracy: 0.9979 - val_loss: 0.4275 - val_accuracy: 0.9146\n",
            "Epoch 10/10\n",
            "469/469 [==============================] - 173s 368ms/step - loss: 0.0100 - accuracy: 0.9965 - val_loss: 0.3411 - val_accuracy: 0.9272\n"
          ]
        }
      ]
    },
    {
      "cell_type": "markdown",
      "source": [
        "this will also calculate the best learning rate using wandb"
      ],
      "metadata": {
        "id": "nszQw2z-0S6e"
      }
    },
    {
      "cell_type": "code",
      "source": [
        "import wandb\n",
        "learning_rate = wandb.config.learning_rate\n",
        "optimizer = keras.Adam(learning_rate = learning_rate)\n",
        "top_model.compile(loss = 'categorical_crossentropy',optimizer = optimizer, metrics = ['accuracy'])"
      ],
      "metadata": {
        "id": "bwhKzuHI0MuX"
      },
      "execution_count": null,
      "outputs": []
    }
  ]
}